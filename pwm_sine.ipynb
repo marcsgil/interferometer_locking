{
 "cells": [
  {
   "cell_type": "code",
   "execution_count": 1,
   "metadata": {},
   "outputs": [
    {
     "name": "stdout",
     "output_type": "stream",
     "text": [
      "Setting up the connection to the board ...\n"
     ]
    }
   ],
   "source": [
    "import pyfirmata2\n",
    "from time import sleep\n",
    "import numpy as np\n",
    "\n",
    "# PWM demo on port 5. The default PWM frequency is 1kHz.\n",
    "\n",
    "# Adjust that the port match your system, see samples below:\n",
    "# On Linux: /dev/tty.usbserial-A6008rIF, /dev/ttyACM0,\n",
    "# On Windows: \\\\.\\COM1, \\\\.\\COM2\n",
    "# PORT = '/dev/ttyACM0'\n",
    "PORT = pyfirmata2.Arduino.AUTODETECT\n",
    "\n",
    "# Creates a new board\n",
    "board = pyfirmata2.Arduino(PORT)\n",
    "print(\"Setting up the connection to the board ...\")\n",
    "\n",
    "# Setup the digital pin for PWM\n",
    "pwm_5 = board.get_pin('d:5:p')"
   ]
  },
  {
   "cell_type": "code",
   "execution_count": 31,
   "metadata": {},
   "outputs": [
    {
     "ename": "KeyboardInterrupt",
     "evalue": "",
     "output_type": "error",
     "traceback": [
      "\u001b[1;31m---------------------------------------------------------------------------\u001b[0m",
      "\u001b[1;31mKeyboardInterrupt\u001b[0m                         Traceback (most recent call last)",
      "Cell \u001b[1;32mIn[31], line 10\u001b[0m\n\u001b[0;32m      8\u001b[0m pwm_5\u001b[38;5;241m.\u001b[39mwrite(\u001b[38;5;241m0.5\u001b[39m \u001b[38;5;241m+\u001b[39m \u001b[38;5;241m0.5\u001b[39m \u001b[38;5;241m*\u001b[39m v)\n\u001b[0;32m      9\u001b[0m t \u001b[38;5;241m+\u001b[39m\u001b[38;5;241m=\u001b[39m write_interval\n\u001b[1;32m---> 10\u001b[0m \u001b[43msleep\u001b[49m\u001b[43m(\u001b[49m\u001b[43mwrite_interval\u001b[49m\u001b[43m)\u001b[49m\n",
      "\u001b[1;31mKeyboardInterrupt\u001b[0m: "
     ]
    }
   ],
   "source": [
    "sine_freq = 30\n",
    "write_interval = 0.001\n",
    "\n",
    "t = 0\n",
    "\n",
    "while True:\n",
    "    v = np.sin(2 * np.pi * sine_freq * t)\n",
    "    pwm_5.write(0.5 + 0.5 * v)\n",
    "    t += write_interval\n",
    "    sleep(write_interval)"
   ]
  },
  {
   "cell_type": "code",
   "execution_count": 25,
   "metadata": {},
   "outputs": [],
   "source": [
    "def ramp(t, T):\n",
    "    s = t % T\n",
    "    if s < T/2:\n",
    "        return 2 * s / T\n",
    "    else:\n",
    "        return 2 - 2 *s / T"
   ]
  },
  {
   "cell_type": "code",
   "execution_count": 21,
   "metadata": {},
   "outputs": [
    {
     "name": "stdout",
     "output_type": "stream",
     "text": [
      "0.51\n"
     ]
    },
    {
     "data": {
      "text/plain": [
       "0.98"
      ]
     },
     "execution_count": 21,
     "metadata": {},
     "output_type": "execute_result"
    }
   ],
   "source": [
    "ramp(0.51,1)"
   ]
  },
  {
   "cell_type": "code",
   "execution_count": 27,
   "metadata": {},
   "outputs": [
    {
     "data": {
      "text/plain": [
       "[<matplotlib.lines.Line2D at 0x24987892540>]"
      ]
     },
     "execution_count": 27,
     "metadata": {},
     "output_type": "execute_result"
    },
    {
     "data": {
      "image/png": "[encoded data removed]",
      "text/plain": [
       "<Figure size 640x480 with 1 Axes>"
      ]
     },
     "metadata": {},
     "output_type": "display_data"
    }
   ],
   "source": [
    "import matplotlib.pyplot as plt\n",
    "\n",
    "T = 3\n",
    "ts = np.linspace(0,T, 512)\n",
    "plt.plot(ts, [ramp(t, T) for t in ts])"
   ]
  },
  {
   "cell_type": "code",
   "execution_count": 33,
   "metadata": {},
   "outputs": [
    {
     "ename": "KeyboardInterrupt",
     "evalue": "",
     "output_type": "error",
     "traceback": [
      "\u001b[1;31m---------------------------------------------------------------------------\u001b[0m",
      "\u001b[1;31mKeyboardInterrupt\u001b[0m                         Traceback (most recent call last)",
      "Cell \u001b[1;32mIn[33], line 10\u001b[0m\n\u001b[0;32m      8\u001b[0m pwm_5\u001b[38;5;241m.\u001b[39mwrite(v)\n\u001b[0;32m      9\u001b[0m t \u001b[38;5;241m+\u001b[39m\u001b[38;5;241m=\u001b[39m write_interval\n\u001b[1;32m---> 10\u001b[0m \u001b[43msleep\u001b[49m\u001b[43m(\u001b[49m\u001b[43mwrite_interval\u001b[49m\u001b[43m)\u001b[49m\n",
      "\u001b[1;31mKeyboardInterrupt\u001b[0m: "
     ]
    }
   ],
   "source": [
    "freq = 30\n",
    "write_interval = 0.001\n",
    "\n",
    "t = 0\n",
    "\n",
    "while True:\n",
    "    v = ramp(t, 1/freq)\n",
    "    pwm_5.write(v)\n",
    "    t += write_interval\n",
    "    sleep(write_interval)"
   ]
  },
  {
   "cell_type": "code",
   "execution_count": 34,
   "metadata": {},
   "outputs": [],
   "source": [
    "pwm_5.write(0)"
   ]
  }
 ],
 "metadata": {
  "kernelspec": {
   "display_name": ".venv",
   "language": "python",
   "name": "python3"
  },
  "language_info": {
   "codemirror_mode": {
    "name": "ipython",
    "version": 3
   },
   "file_extension": ".py",
   "mimetype": "text/x-python",
   "name": "python",
   "nbconvert_exporter": "python",
   "pygments_lexer": "ipython3",
   "version": "3.12.6"
  }
 },
 "nbformat": 4,
 "nbformat_minor": 2
}
